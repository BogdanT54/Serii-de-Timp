{
  "nbformat": 4,
  "nbformat_minor": 0,
  "metadata": {
    "colab": {
      "provenance": [],
      "authorship_tag": "ABX9TyNeaUkzQbN1H5rX+9KwGJXb",
      "include_colab_link": true
    },
    "kernelspec": {
      "name": "ir",
      "display_name": "R"
    },
    "language_info": {
      "name": "R"
    }
  },
  "cells": [
    {
      "cell_type": "markdown",
      "metadata": {
        "id": "view-in-github",
        "colab_type": "text"
      },
      "source": [
        "<a href=\"https://colab.research.google.com/github/BogdanT54/Serii-de-Timp/blob/main/Stationaritate_Bitcoin_2016_2025_R.ipynb\" target=\"_parent\"><img src=\"https://colab.research.google.com/assets/colab-badge.svg\" alt=\"Open In Colab\"/></a>"
      ]
    },
    {
      "cell_type": "code",
      "execution_count": null,
      "metadata": {
        "colab": {
          "base_uri": "https://localhost:8080/"
        },
        "id": "HBX3Rhp_Bq5I",
        "outputId": "ff557107-f333-4793-915d-31f0fd2dc445"
      },
      "outputs": [
        {
          "output_type": "stream",
          "name": "stderr",
          "text": [
            "Installing packages into ‘/usr/local/lib/R/site-library’\n",
            "(as ‘lib’ is unspecified)\n",
            "\n",
            "also installing the dependencies ‘lazyeval’, ‘rex’, ‘x13binary’, ‘plogr’, ‘covr’, ‘feather’, ‘mockr’, ‘quadprog’, ‘zoo’, ‘fracdiff’, ‘lmtest’, ‘timeDate’, ‘RcppArmadillo’, ‘forecTheta’, ‘rticles’, ‘seasonal’, ‘uroot’, ‘xts’, ‘TTR’, ‘RMySQL’, ‘RSQLite’, ‘timeSeries’, ‘downloader’\n",
            "\n",
            "\n",
            "── \u001b[1mAttaching core tidyverse packages\u001b[22m ──────────────────────── tidyverse 2.0.0 ──\n",
            "\u001b[32m✔\u001b[39m \u001b[34mdplyr    \u001b[39m 1.1.4     \u001b[32m✔\u001b[39m \u001b[34mreadr    \u001b[39m 2.1.5\n",
            "\u001b[32m✔\u001b[39m \u001b[34mforcats  \u001b[39m 1.0.0     \u001b[32m✔\u001b[39m \u001b[34mstringr  \u001b[39m 1.5.1\n",
            "\u001b[32m✔\u001b[39m \u001b[34mggplot2  \u001b[39m 3.5.1     \u001b[32m✔\u001b[39m \u001b[34mtibble   \u001b[39m 3.2.1\n",
            "\u001b[32m✔\u001b[39m \u001b[34mlubridate\u001b[39m 1.9.4     \u001b[32m✔\u001b[39m \u001b[34mtidyr    \u001b[39m 1.3.1\n",
            "\u001b[32m✔\u001b[39m \u001b[34mpurrr    \u001b[39m 1.0.4     \n",
            "── \u001b[1mConflicts\u001b[22m ────────────────────────────────────────── tidyverse_conflicts() ──\n",
            "\u001b[31m✖\u001b[39m \u001b[34mdplyr\u001b[39m::\u001b[32mfilter()\u001b[39m masks \u001b[34mstats\u001b[39m::filter()\n",
            "\u001b[31m✖\u001b[39m \u001b[34mdplyr\u001b[39m::\u001b[32mlag()\u001b[39m    masks \u001b[34mstats\u001b[39m::lag()\n",
            "\u001b[36mℹ\u001b[39m Use the conflicted package (\u001b[3m\u001b[34m<http://conflicted.r-lib.org/>\u001b[39m\u001b[23m) to force all conflicts to become errors\n",
            "Registered S3 method overwritten by 'quantmod':\n",
            "  method            from\n",
            "  as.zoo.data.frame zoo \n",
            "\n",
            "Loading required package: xts\n",
            "\n",
            "Loading required package: zoo\n",
            "\n",
            "\n",
            "Attaching package: ‘zoo’\n",
            "\n",
            "\n",
            "The following objects are masked from ‘package:base’:\n",
            "\n",
            "    as.Date, as.Date.numeric\n",
            "\n",
            "\n",
            "\n",
            "######################### Warning from 'xts' package ##########################\n",
            "#                                                                             #\n",
            "# The dplyr lag() function breaks how base R's lag() function is supposed to  #\n",
            "# work, which breaks lag(my_xts). Calls to lag(my_xts) that you type or       #\n",
            "# source() into this session won't work correctly.                            #\n",
            "#                                                                             #\n",
            "# Use stats::lag() to make sure you're not using dplyr::lag(), or you can add #\n",
            "# conflictRules('dplyr', exclude = 'lag') to your .Rprofile to stop           #\n",
            "# dplyr from breaking base R's lag() function.                                #\n",
            "#                                                                             #\n",
            "# Code in packages is not affected. It's protected by R's namespace mechanism #\n",
            "# Set `options(xts.warn_dplyr_breaks_lag = FALSE)` to suppress this warning.  #\n",
            "#                                                                             #\n",
            "###############################################################################\n",
            "\n",
            "\n",
            "Attaching package: ‘xts’\n",
            "\n",
            "\n",
            "The following objects are masked from ‘package:dplyr’:\n",
            "\n",
            "    first, last\n",
            "\n",
            "\n",
            "Loading required package: TTR\n",
            "\n"
          ]
        }
      ],
      "source": [
        "# Instalare și încărcare biblioteci necesare\n",
        "install.packages(c(\"tidyverse\", \"tseries\", \"urca\", \"forecast\", \"quantmod\"), dependencies = TRUE)\n",
        "\n",
        "# Curățare mediu de lucru și închidere grafice\n",
        "rm(list = ls())\n",
        "graphics.off()\n",
        "\n",
        "# Încărcare biblioteci necesare\n",
        "library(tidyverse)\n",
        "library(tseries)\n",
        "library(urca)\n",
        "library(forecast)\n",
        "library(quantmod)"
      ]
    },
    {
      "cell_type": "code",
      "source": [
        "# Descărcăm datele Bitcoin de la 1 ianuarie 2016 până la inceputul lui 2025\n",
        "btc_xts <- getSymbols(\"BTC-USD\", src = \"yahoo\", from = \"2016-01-01\", to = \"2025-01-01\", auto.assign = FALSE)\n",
        "\n",
        "# Extragem doar prețul de închidere\n",
        "btc_close_xts <- Cl(btc_xts)\n",
        "\n",
        "# Convertim seria xts într-un data frame\n",
        "btc_df <- data.frame(\n",
        "  Date = index(btc_close_xts),\n",
        "  Closing_Price = as.numeric(btc_close_xts)\n",
        ")\n",
        "\n",
        "\n",
        "#Pun datele din data frame intr-un csv\n",
        "write.csv(btc_df, \"Bitcoin_USD_Pret_Inchidere.csv\", row.names = FALSE)\n",
        "\n",
        "#Verificare fisier CSV\n",
        "head(btc_df)"
      ],
      "metadata": {
        "colab": {
          "base_uri": "https://localhost:8080/",
          "height": 286
        },
        "id": "zacJ1ZWjDu_1",
        "outputId": "017b1c1d-b82e-4b9b-85be-a7727c75bc28"
      },
      "execution_count": null,
      "outputs": [
        {
          "output_type": "display_data",
          "data": {
            "text/html": [
              "<table class=\"dataframe\">\n",
              "<caption>A data.frame: 6 × 2</caption>\n",
              "<thead>\n",
              "\t<tr><th></th><th scope=col>Date</th><th scope=col>Closing_Price</th></tr>\n",
              "\t<tr><th></th><th scope=col>&lt;date&gt;</th><th scope=col>&lt;dbl&gt;</th></tr>\n",
              "</thead>\n",
              "<tbody>\n",
              "\t<tr><th scope=row>1</th><td>2016-01-01</td><td>434.334</td></tr>\n",
              "\t<tr><th scope=row>2</th><td>2016-01-02</td><td>433.438</td></tr>\n",
              "\t<tr><th scope=row>3</th><td>2016-01-03</td><td>430.011</td></tr>\n",
              "\t<tr><th scope=row>4</th><td>2016-01-04</td><td>433.091</td></tr>\n",
              "\t<tr><th scope=row>5</th><td>2016-01-05</td><td>431.960</td></tr>\n",
              "\t<tr><th scope=row>6</th><td>2016-01-06</td><td>429.105</td></tr>\n",
              "</tbody>\n",
              "</table>\n"
            ],
            "text/markdown": "\nA data.frame: 6 × 2\n\n| <!--/--> | Date &lt;date&gt; | Closing_Price &lt;dbl&gt; |\n|---|---|---|\n| 1 | 2016-01-01 | 434.334 |\n| 2 | 2016-01-02 | 433.438 |\n| 3 | 2016-01-03 | 430.011 |\n| 4 | 2016-01-04 | 433.091 |\n| 5 | 2016-01-05 | 431.960 |\n| 6 | 2016-01-06 | 429.105 |\n\n",
            "text/latex": "A data.frame: 6 × 2\n\\begin{tabular}{r|ll}\n  & Date & Closing\\_Price\\\\\n  & <date> & <dbl>\\\\\n\\hline\n\t1 & 2016-01-01 & 434.334\\\\\n\t2 & 2016-01-02 & 433.438\\\\\n\t3 & 2016-01-03 & 430.011\\\\\n\t4 & 2016-01-04 & 433.091\\\\\n\t5 & 2016-01-05 & 431.960\\\\\n\t6 & 2016-01-06 & 429.105\\\\\n\\end{tabular}\n",
            "text/plain": [
              "  Date       Closing_Price\n",
              "1 2016-01-01 434.334      \n",
              "2 2016-01-02 433.438      \n",
              "3 2016-01-03 430.011      \n",
              "4 2016-01-04 433.091      \n",
              "5 2016-01-05 431.960      \n",
              "6 2016-01-06 429.105      "
            ]
          },
          "metadata": {}
        }
      ]
    },
    {
      "cell_type": "code",
      "source": [
        "# Convertim în serie temporală (frecvență zilnică)\n",
        "btc_ts <- ts(btc_df$Closing_Price, start = c(2016, 1), frequency = 365)\n",
        "\n",
        "#Grafic linie + ACF/PACF pentru nivel\n",
        "ggtsdisplay(btc_ts, lag.max = 30, main = \"Prețul Bitcoin (USD) - Nivel (2016–2025)\")"
      ],
      "metadata": {
        "colab": {
          "base_uri": "https://localhost:8080/",
          "height": 437
        },
        "id": "YbgKYH0zIh0j",
        "outputId": "a1860344-0278-4dd2-9bbb-69a217924680"
      },
      "execution_count": null,
      "outputs": [
        {
          "output_type": "display_data",
          "data": {
            "text/plain": [
              "plot without title"
            ],
            "image/png": "[encoded data removed]"
          },
          "metadata": {
            "image/png": {
              "width": 420,
              "height": 420
            }
          }
        }
      ]
    },
    {
      "cell_type": "markdown",
      "source": [
        "Seria prețului Bitcoin în nivel arată o tendință clar ascendentă, cu episoade de volatilitate crescută (de exemplu, în 2017, 2021 și 2024). Acest comportament evidențiază o creștere exponențială și neregulară, tipică pentru piața Crypto și activele volatile."
      ],
      "metadata": {
        "id": "_E5ldDPONzHK"
      }
    },
    {
      "cell_type": "code",
      "source": [
        "# ADF - none\n",
        "summary(ur.df(btc_ts, type = \"none\", lags = 14, selectlags = \"AIC\"))\n",
        "# Exemplu interpretare: Dacă stat. ADF este mai mică în modul decât valorile critice, nu respingem H0 => seria NU este staționară."
      ],
      "metadata": {
        "colab": {
          "base_uri": "https://localhost:8080/",
          "height": 819
        },
        "id": "akbpwJvYMJjX",
        "outputId": "5d2e4b5a-6fab-4bfc-aeed-f7324092d8b3"
      },
      "execution_count": null,
      "outputs": [
        {
          "output_type": "display_data",
          "data": {
            "text/plain": [
              "\n",
              "############################################### \n",
              "# Augmented Dickey-Fuller Test Unit Root Test # \n",
              "############################################### \n",
              "\n",
              "Test regression none \n",
              "\n",
              "\n",
              "Call:\n",
              "lm(formula = z.diff ~ z.lag.1 - 1 + z.diff.lag)\n",
              "\n",
              "Residuals:\n",
              "    Min      1Q  Median      3Q     Max \n",
              "-7457.4  -173.8     2.2   182.2  8085.0 \n",
              "\n",
              "Coefficients:\n",
              "               Estimate Std. Error t value Pr(>|t|)    \n",
              "z.lag.1       0.0007401  0.0005672   1.305  0.19207    \n",
              "z.diff.lag1  -0.0316665  0.0175289  -1.807  0.07093 .  \n",
              "z.diff.lag2   0.0205182  0.0175142   1.172  0.24148    \n",
              "z.diff.lag3  -0.0001213  0.0175201  -0.007  0.99448    \n",
              "z.diff.lag4   0.0287249  0.0175216   1.639  0.10123    \n",
              "z.diff.lag5   0.0221809  0.0174871   1.268  0.20474    \n",
              "z.diff.lag6  -0.0298365  0.0174873  -1.706  0.08807 .  \n",
              "z.diff.lag7  -0.0060826  0.0175307  -0.347  0.72864    \n",
              "z.diff.lag8  -0.0350866  0.0175240  -2.002  0.04535 *  \n",
              "z.diff.lag9   0.0716883  0.0175720   4.080 4.62e-05 ***\n",
              "z.diff.lag10  0.0339675  0.0176135   1.928  0.05388 .  \n",
              "z.diff.lag11  0.0069020  0.0176394   0.391  0.69561    \n",
              "z.diff.lag12 -0.0529055  0.0176352  -3.000  0.00272 ** \n",
              "z.diff.lag13  0.0364919  0.0176483   2.068  0.03874 *  \n",
              "---\n",
              "Signif. codes:  0 ‘***’ 0.001 ‘**’ 0.01 ‘*’ 0.05 ‘.’ 0.1 ‘ ’ 1\n",
              "\n",
              "Residual standard error: 1004 on 3260 degrees of freedom\n",
              "Multiple R-squared:  0.01656,\tAdjusted R-squared:  0.01234 \n",
              "F-statistic: 3.922 on 14 and 3260 DF,  p-value: 1.036e-06\n",
              "\n",
              "\n",
              "Value of test-statistic is: 1.3048 \n",
              "\n",
              "Critical values for test statistics: \n",
              "      1pct  5pct 10pct\n",
              "tau1 -2.58 -1.95 -1.62\n"
            ]
          },
          "metadata": {}
        }
      ]
    },
    {
      "cell_type": "markdown",
      "source": [
        "\n",
        "\n",
        "# **1. Formularea ipotezelor**\n",
        "\n",
        "- H₀ (ipoteza nulă): seria are rădăcină unitară → nu este staționară\n",
        "- H₁ (ipoteza alternativă): seria este staționară\n",
        "\n",
        "# **2. Valori statistice obținute**\n",
        "\n",
        "- Statistica ADF: 1.3048\n",
        "Valori critice:\n",
        "- 1%: −2.58\n",
        "- 5%: −1.95\n",
        "- 10%: −1.62\n",
        "\n",
        "# **3. Comparație și concluzie**\n",
        "\n",
        "Statistica testului este mai mare decât toate valorile critice. Prin urmare, nu există suficiente dovezi pentru a respinge ipoteza nulă.\n",
        "\n",
        "# **4. Interpretare economică**\n",
        "\n",
        "Seria prețului de închidere al Bitcoinului în perioada 2016–2025 nu este staționară în nivel. Valorile prezintă o tendință persistentă și sunt influențate de șocuri trecute, ceea ce este tipic pentru serii financiare."
      ],
      "metadata": {
        "id": "ok0hKN4yNx3v"
      }
    },
    {
      "cell_type": "code",
      "source": [
        "# ADF - drift (constanta)\n",
        "summary(ur.df(btc_ts, type = \"drift\", lags = 14, selectlags = \"AIC\"))\n",
        "# Interpretare: verificăm semnificația coef. phi1 și valoarea ADF pentru concluzie"
      ],
      "metadata": {
        "colab": {
          "base_uri": "https://localhost:8080/",
          "height": 856
        },
        "id": "v8-vV5HKNHOY",
        "outputId": "a8be699c-3651-4451-aec1-b25374136b06"
      },
      "execution_count": null,
      "outputs": [
        {
          "output_type": "display_data",
          "data": {
            "text/plain": [
              "\n",
              "############################################### \n",
              "# Augmented Dickey-Fuller Test Unit Root Test # \n",
              "############################################### \n",
              "\n",
              "Test regression drift \n",
              "\n",
              "\n",
              "Call:\n",
              "lm(formula = z.diff ~ z.lag.1 + 1 + z.diff.lag)\n",
              "\n",
              "Residuals:\n",
              "    Min      1Q  Median      3Q     Max \n",
              "-7452.2  -185.6   -17.4   169.4  8099.4 \n",
              "\n",
              "Coefficients:\n",
              "               Estimate Std. Error t value Pr(>|t|)    \n",
              "(Intercept)  20.8585708 24.9365829   0.836  0.40295    \n",
              "z.lag.1       0.0002657  0.0008021   0.331  0.74044    \n",
              "z.diff.lag1  -0.0314032  0.0175325  -1.791  0.07336 .  \n",
              "z.diff.lag2   0.0207494  0.0175172   1.185  0.23629    \n",
              "z.diff.lag3   0.0001235  0.0175234   0.007  0.99438    \n",
              "z.diff.lag4   0.0289954  0.0175254   1.654  0.09813 .  \n",
              "z.diff.lag5   0.0224758  0.0174914   1.285  0.19890    \n",
              "z.diff.lag6  -0.0295354  0.0174918  -1.689  0.09141 .  \n",
              "z.diff.lag7  -0.0057631  0.0175357  -0.329  0.74244    \n",
              "z.diff.lag8  -0.0347828  0.0175286  -1.984  0.04730 *  \n",
              "z.diff.lag9   0.0719616  0.0175759   4.094 4.34e-05 ***\n",
              "z.diff.lag10  0.0342682  0.0176180   1.945  0.05185 .  \n",
              "z.diff.lag11  0.0072281  0.0176445   0.410  0.68209    \n",
              "z.diff.lag12 -0.0525634  0.0176407  -2.980  0.00291 ** \n",
              "z.diff.lag13  0.0368102  0.0176532   2.085  0.03713 *  \n",
              "---\n",
              "Signif. codes:  0 ‘***’ 0.001 ‘**’ 0.01 ‘*’ 0.05 ‘.’ 0.1 ‘ ’ 1\n",
              "\n",
              "Residual standard error: 1004 on 3259 degrees of freedom\n",
              "Multiple R-squared:  0.01598,\tAdjusted R-squared:  0.01175 \n",
              "F-statistic:  3.78 on 14 and 3259 DF,  p-value: 2.236e-06\n",
              "\n",
              "\n",
              "Value of test-statistic is: 0.3313 1.201 \n",
              "\n",
              "Critical values for test statistics: \n",
              "      1pct  5pct 10pct\n",
              "tau2 -3.43 -2.86 -2.57\n",
              "phi1  6.43  4.59  3.78\n"
            ]
          },
          "metadata": {}
        }
      ]
    },
    {
      "cell_type": "markdown",
      "source": [
        "\n",
        "\n",
        "# **1. Formularea ipotezelor**\n",
        "- H₀: seria are rădăcină unitară → nu este staționară\n",
        "- H₁: seria este staționară\n",
        "\n",
        "# **2. Valori statistice obținute**\n",
        "\n",
        "Statistica ADF (tau2): 0.3313\n",
        "\n",
        "Valori critice ADF:\n",
        "- 1%: −3.43\n",
        "- 5%: −2.86\n",
        "- 10%: −2.57\n",
        "- Statistica phi1 (pentru drift): 1.201\n",
        "\n",
        "Valori critice phi1:\n",
        "- 1%: 6.43\n",
        "- 5%: 4.59\n",
        "- 10%: 3.78\n",
        "\n",
        "# **3. Comparație și concluzie**\n",
        "Valoarea statisticii ADF este mai mare decât toate valorile critice, deci nu respingem H₀. De asemenea, coeficientul constantei (phi1) nu este semnificativ statistic (p > 0.05).\n",
        "\n",
        "# **4. Interpretare economică**\n",
        "Seria prețului Bitcoin (2016–2025) nu este staționară nici când presupunem existența unui drift. Lipsa semnificației constantei sugerează că nici un nivel fix nu caracterizează evoluția. Prețul variază haotic și persistent în timp."
      ],
      "metadata": {
        "id": "yyNKeNm0PyOo"
      }
    },
    {
      "cell_type": "markdown",
      "source": [],
      "metadata": {
        "id": "v5Is58UgNyrD"
      }
    },
    {
      "cell_type": "code",
      "source": [
        "# ADF - trend (trend determinist)\n",
        "summary(ur.df(btc_ts, type = \"trend\", lags = 14, selectlags = \"AIC\"))\n",
        "# Interpretare: verificăm tau3 (ADF), phi2 (constanta), phi3 (trendul)"
      ],
      "metadata": {
        "colab": {
          "base_uri": "https://localhost:8080/",
          "height": 892
        },
        "id": "rIkjKRzgNHJG",
        "outputId": "a72f23a4-6cf9-4446-f8d9-abc2faf4d051"
      },
      "execution_count": null,
      "outputs": [
        {
          "output_type": "display_data",
          "data": {
            "text/plain": [
              "\n",
              "############################################### \n",
              "# Augmented Dickey-Fuller Test Unit Root Test # \n",
              "############################################### \n",
              "\n",
              "Test regression trend \n",
              "\n",
              "\n",
              "Call:\n",
              "lm(formula = z.diff ~ z.lag.1 + 1 + tt + z.diff.lag)\n",
              "\n",
              "Residuals:\n",
              "    Min      1Q  Median      3Q     Max \n",
              "-7400.6  -207.4    13.5   172.3  8115.4 \n",
              "\n",
              "Coefficients:\n",
              "               Estimate Std. Error t value Pr(>|t|)    \n",
              "(Intercept)  -33.012197  37.354371  -0.884  0.37689    \n",
              "z.lag.1       -0.001871   0.001364  -1.372  0.17026    \n",
              "tt             0.061406   0.031713   1.936  0.05292 .  \n",
              "z.diff.lag1   -0.030394   0.017533  -1.734  0.08310 .  \n",
              "z.diff.lag2    0.021640   0.017516   1.235  0.21675    \n",
              "z.diff.lag3    0.001062   0.017523   0.061  0.95168    \n",
              "z.diff.lag4    0.030008   0.017526   1.712  0.08695 .  \n",
              "z.diff.lag5    0.023596   0.017494   1.349  0.17748    \n",
              "z.diff.lag6   -0.028403   0.017494  -1.624  0.10457    \n",
              "z.diff.lag7   -0.004612   0.017538  -0.263  0.79260    \n",
              "z.diff.lag8   -0.033685   0.017530  -1.921  0.05476 .  \n",
              "z.diff.lag9    0.072978   0.017576   4.152 3.38e-05 ***\n",
              "z.diff.lag10   0.035406   0.017620   2.009  0.04458 *  \n",
              "z.diff.lag11   0.008447   0.017648   0.479  0.63224    \n",
              "z.diff.lag12  -0.051290   0.017646  -2.907  0.00368 ** \n",
              "z.diff.lag13   0.037978   0.017656   2.151  0.03155 *  \n",
              "---\n",
              "Signif. codes:  0 ‘***’ 0.001 ‘**’ 0.01 ‘*’ 0.05 ‘.’ 0.1 ‘ ’ 1\n",
              "\n",
              "Residual standard error: 1003 on 3258 degrees of freedom\n",
              "Multiple R-squared:  0.01711,\tAdjusted R-squared:  0.01258 \n",
              "F-statistic: 3.781 on 15 and 3258 DF,  p-value: 1.064e-06\n",
              "\n",
              "\n",
              "Value of test-statistic is: -1.3717 2.0511 1.9295 \n",
              "\n",
              "Critical values for test statistics: \n",
              "      1pct  5pct 10pct\n",
              "tau3 -3.96 -3.41 -3.12\n",
              "phi2  6.09  4.68  4.03\n",
              "phi3  8.27  6.25  5.34\n"
            ]
          },
          "metadata": {}
        }
      ]
    },
    {
      "cell_type": "markdown",
      "source": [
        "\n",
        "\n",
        "# **1. Formularea ipotezelor**\n",
        "- H₀: seria are rădăcină unitară → nu este staționară\n",
        "- H₁: seria este staționară\n",
        "\n",
        "# **2. Valori statistice obținute**\n",
        "\n",
        "Statistica ADF (tau3): -1.3717\n",
        "\n",
        "Valori critice ADF:\n",
        "- 1%: −3.96\n",
        "- 5%: −3.41\n",
        "- 10%: −3.12\n",
        "\n",
        "- Statistica phi2 (constanta): 2.0511  \n",
        "- Statistica phi3 (trendul): 1.9295\n",
        "\n",
        "Valori critice phi2:\n",
        "- 1%: 6.29\n",
        "- 5%: 4.68\n",
        "- 10%: 4.03\n",
        "\n",
        "Valori critice phi3:\n",
        "- 1%: 8.27\n",
        "- 5%: 6.25\n",
        "- 10%: 5.34\n",
        "\n",
        "# **3. Comparație și concluzie**\n",
        "Statistica ADF este mai mare decât toate valorile critice în modul, deci nu respingem H₀. Nici constanta și nici trendul nu sunt semnificative statistic, conform valorilor phi2 și phi3.\n",
        "\n",
        "# **4. Interpretare economică**\n",
        "Seria prețului Bitcoin (2016–2025) nu este staționară nici când presupunem existența unui trend determinist. Evoluția seriei pare a fi dominată de factori neobservați și instabilitate structurală.\n"
      ],
      "metadata": {
        "id": "xy9k_wD7Ny81"
      }
    },
    {
      "cell_type": "code",
      "source": [
        "# PP - constant\n",
        "summary(ur.pp(btc_ts, type = \"Z-tau\", model = \"constant\"))\n",
        "# Dacă stat. este mai mică în modul decât criticele => NU respingem H0 => seria NU e staționară"
      ],
      "metadata": {
        "colab": {
          "base_uri": "https://localhost:8080/",
          "height": 655
        },
        "id": "hHuUOLRhNHCL",
        "outputId": "3fcbff72-afd3-4ead-caa5-691d51e5c096"
      },
      "execution_count": null,
      "outputs": [
        {
          "output_type": "display_data",
          "data": {
            "text/plain": [
              "\n",
              "################################## \n",
              "# Phillips-Perron Unit Root Test # \n",
              "################################## \n",
              "\n",
              "Test regression with intercept \n",
              "\n",
              "\n",
              "Call:\n",
              "lm(formula = y ~ y.l1)\n",
              "\n",
              "Residuals:\n",
              "    Min      1Q  Median      3Q     Max \n",
              "-7597.0  -185.9   -16.9   171.3  8174.4 \n",
              "\n",
              "Coefficients:\n",
              "             Estimate Std. Error  t value Pr(>|t|)    \n",
              "(Intercept) 19.218085  24.864066    0.773     0.44    \n",
              "y.l1         1.000419   0.000787 1271.156   <2e-16 ***\n",
              "---\n",
              "Signif. codes:  0 ‘***’ 0.001 ‘**’ 0.01 ‘*’ 0.05 ‘.’ 0.1 ‘ ’ 1\n",
              "\n",
              "Residual standard error: 1008 on 3286 degrees of freedom\n",
              "Multiple R-squared:  0.998,\tAdjusted R-squared:  0.998 \n",
              "F-statistic: 1.616e+06 on 1 and 3286 DF,  p-value: < 2.2e-16\n",
              "\n",
              "\n",
              "Value of test-statistic, type: Z-tau  is: 0.5381 \n",
              "\n",
              "         aux. Z statistics\n",
              "Z-tau-mu             0.771\n",
              "\n",
              "Critical values for Z statistics: \n",
              "                     1pct      5pct     10pct\n",
              "critical values -3.435327 -2.862933 -2.567538\n"
            ]
          },
          "metadata": {}
        }
      ]
    },
    {
      "cell_type": "markdown",
      "source": [
        "# **1. Formularea ipotezelor**\n",
        "- H₀: seria are rădăcină unitară → nu este staționară\n",
        "- H₁: seria este staționară\n",
        "\n",
        "# **2. Valori statistice obținute**\n",
        "\n",
        "Statistica PP (Z-tau-mu): 0.771\n",
        "\n",
        "Valori critice:\n",
        "- 1%: −3.4353\n",
        "- 5%: −2.8629\n",
        "- 10%: −2.5676\n",
        "\n",
        "# **3. Comparație și concluzie**\n",
        "Statistica testului este mai mare decât toate valorile critice. Prin urmare, nu respingem ipoteza nulă H₀ conform căreia seria nu este staționară.\n",
        "\n",
        "# **4. Interpretare economică**\n",
        "Seria prețului Bitcoin (2016–2025) rămâne nestaționară și în cadrul testului PP. Aceasta confirmă instabilitatea mediei și dependența de șocuri anterioare în evoluția pieței crypto."
      ],
      "metadata": {
        "id": "_BJ4VEBONzMu"
      }
    },
    {
      "cell_type": "code",
      "source": [
        "# PP - trend\n",
        "summary(ur.pp(btc_ts, type = \"Z-tau\", model = \"trend\"))"
      ],
      "metadata": {
        "colab": {
          "base_uri": "https://localhost:8080/",
          "height": 692
        },
        "id": "pvZduYUhNG4I",
        "outputId": "a952cd61-6426-4e9e-c390-fdeecc91c1f0"
      },
      "execution_count": null,
      "outputs": [
        {
          "output_type": "display_data",
          "data": {
            "text/plain": [
              "\n",
              "################################## \n",
              "# Phillips-Perron Unit Root Test # \n",
              "################################## \n",
              "\n",
              "Test regression with intercept and trend \n",
              "\n",
              "\n",
              "Call:\n",
              "lm(formula = y ~ y.l1 + trend)\n",
              "\n",
              "Residuals:\n",
              "    Min      1Q  Median      3Q     Max \n",
              "-7547.3  -205.2    12.8   164.4  8197.6 \n",
              "\n",
              "Coefficients:\n",
              "             Estimate Std. Error t value Pr(>|t|)    \n",
              "(Intercept) 63.225571  34.653079   1.825   0.0682 .  \n",
              "y.l1         0.998449   0.001337 746.747   <2e-16 ***\n",
              "trend        0.057328   0.031455   1.823   0.0685 .  \n",
              "---\n",
              "Signif. codes:  0 ‘***’ 0.001 ‘**’ 0.01 ‘*’ 0.05 ‘.’ 0.1 ‘ ’ 1\n",
              "\n",
              "Residual standard error: 1007 on 3285 degrees of freedom\n",
              "Multiple R-squared:  0.998,\tAdjusted R-squared:  0.998 \n",
              "F-statistic: 8.085e+05 on 2 and 3285 DF,  p-value: < 2.2e-16\n",
              "\n",
              "\n",
              "Value of test-statistic, type: Z-tau  is: -1.1683 \n",
              "\n",
              "           aux. Z statistics\n",
              "Z-tau-mu              1.8104\n",
              "Z-tau-beta            1.8269\n",
              "\n",
              "Critical values for Z statistics: \n",
              "                     1pct     5pct     10pct\n",
              "critical values -3.966345 -3.41383 -3.128636\n"
            ]
          },
          "metadata": {}
        }
      ]
    },
    {
      "cell_type": "markdown",
      "source": [
        "\n",
        "# **1. Formularea ipotezelor**\n",
        "- H₀: seria are rădăcină unitară → nu este staționară\n",
        "- H₁: seria este staționară\n",
        "\n",
        "# **2. Valori statistice obținute**\n",
        "\n",
        "Statistica Z-tau: −1.1683\n",
        "\n",
        "Valori critice:\n",
        "- 1%: −3.966345\n",
        "- 5%: −3.41383\n",
        "- 10%: −3.128636\n",
        "\n",
        "# **3. Comparație și concluzie**\n",
        "Valoarea statisticii Z-tau este mai mare decât toate valorile critice. Nu putem respinge ipoteza nulă H₀, deci considerăm că seria nu este staționară nici în prezența unui trend determinist.\n",
        "\n",
        "# **4. Interpretare economică**\n",
        "Seria Bitcoin (2016–2025) își păstrează comportamentul de serie nestaționară, chiar și atunci când presupunem existența unui trend. Evoluția sa este dominată de șocuri externe și nu are o tendință stabilă sau predictibilă."
      ],
      "metadata": {
        "id": "ejMsrFjeNzgp"
      }
    },
    {
      "cell_type": "code",
      "source": [
        "# KPSS - mu (constanta)\n",
        "summary(ur.kpss(btc_ts, type = \"mu\"))\n",
        "# Dacă stat. > valori critice => respingem H0 => seria NU e staționară"
      ],
      "metadata": {
        "colab": {
          "base_uri": "https://localhost:8080/",
          "height": 236
        },
        "id": "yefa7hPvNRk2",
        "outputId": "4a1f4208-5a29-46b2-f895-528a35ef9a29"
      },
      "execution_count": null,
      "outputs": [
        {
          "output_type": "display_data",
          "data": {
            "text/plain": [
              "\n",
              "####################### \n",
              "# KPSS Unit Root Test # \n",
              "####################### \n",
              "\n",
              "Test is of type: mu with 9 lags. \n",
              "\n",
              "Value of test-statistic is: 21.7143 \n",
              "\n",
              "Critical value for a significance level of: \n",
              "                10pct  5pct 2.5pct  1pct\n",
              "critical values 0.347 0.463  0.574 0.739\n"
            ]
          },
          "metadata": {}
        }
      ]
    },
    {
      "cell_type": "markdown",
      "source": [
        "\n",
        "# **1. Formularea ipotezelor**\n",
        "- H₀: seria este staționară\n",
        "- H₁: seria nu este staționară\n",
        "\n",
        "# **2. Valori statistice obținute**\n",
        "\n",
        "Statistica KPSS: 21.7143\n",
        "\n",
        "Valori critice:\n",
        "- 10%: 0.347\n",
        "- 5%: 0.463\n",
        "- 2.5%: 0.574\n",
        "- 1%: 0.739\n",
        "\n",
        "# **3. Comparație și concluzie**\n",
        "Valoarea statisticii testului este mult mai mare decât toate valorile critice. Prin urmare, respingem ipoteza nulă conform căreia seria este staționară.\n",
        "\n",
        "# **4. Interpretare economică**\n",
        "Rezultatul confirmă faptul că seria prețului Bitcoin (2016–2025) nu este staționară. Aceasta nu fluctuează în jurul unei medii constante și prezintă o volatilitate excesivă."
      ],
      "metadata": {
        "id": "ajttpHeFNzvv"
      }
    },
    {
      "cell_type": "code",
      "source": [
        "# KPSS - tau (trend)\n",
        "summary(ur.kpss(btc_ts, type = \"tau\"))"
      ],
      "metadata": {
        "colab": {
          "base_uri": "https://localhost:8080/",
          "height": 236
        },
        "id": "63GyccXnNRd7",
        "outputId": "2ecac93a-7fe7-4fca-852b-11a440b48c70"
      },
      "execution_count": null,
      "outputs": [
        {
          "output_type": "display_data",
          "data": {
            "text/plain": [
              "\n",
              "####################### \n",
              "# KPSS Unit Root Test # \n",
              "####################### \n",
              "\n",
              "Test is of type: tau with 9 lags. \n",
              "\n",
              "Value of test-statistic is: 1.4168 \n",
              "\n",
              "Critical value for a significance level of: \n",
              "                10pct  5pct 2.5pct  1pct\n",
              "critical values 0.119 0.146  0.176 0.216\n"
            ]
          },
          "metadata": {}
        }
      ]
    },
    {
      "cell_type": "markdown",
      "source": [
        "\n",
        "# **1. Formularea ipotezelor**\n",
        "- H₀: seria este staționară în jurul unui trend determinist\n",
        "- H₁: seria nu este staționară\n",
        "\n",
        "# **2. Valori statistice obținute**\n",
        "\n",
        "Statistica KPSS: 1.4168\n",
        "\n",
        "Valori critice:\n",
        "- 10%: 0.119\n",
        "- 5%: 0.146\n",
        "- 2.5%: 0.176\n",
        "- 1%: 0.216\n",
        "\n",
        "# **3. Comparație și concluzie**\n",
        "Statistica testului este mult mai mare decât toate valorile critice. Respinge ipoteza nulă, deci concluzionăm că seria nu este staționară nici în jurul unui trend determinist.\n",
        "\n",
        "# **4. Interpretare economică**\n",
        "Prețul Bitcoin (2016–2025) nu urmează un trend liniar stabil și prezintă instabilitate pe termen lung. Seria este afectată de șocuri persistente și volatilitate ridicată."
      ],
      "metadata": {
        "id": "-MpCEfYON0Dm"
      }
    },
    {
      "cell_type": "code",
      "source": [
        "# === 4. Diferențierea seriei pentru staționarizare ===\n",
        "btc_diff <- diff(btc_ts)"
      ],
      "metadata": {
        "id": "Gi4KWrSfNbeo"
      },
      "execution_count": null,
      "outputs": []
    },
    {
      "cell_type": "markdown",
      "source": [
        "Facem diferențierea seriei pentru a o transforma într-o formă staționară, necesară pentru aplicarea corectă a modelelor ARIMA. Seria originală a prețului Bitcoin nu are medie și varianță constante în timp, ceea ce încalcă ipotezele de bază ale acestor modele. Prin aplicarea funcției diff(), eliminăm trendul și obținem o serie stabilă, ce reflectă variațiile zilnice (randamentele). Această transformare corespunde diferențierii de ordinul 1, adică D = 1 în modelul ARIMA(P,D,Q)."
      ],
      "metadata": {
        "id": "Q2jbmPBIBU5F"
      }
    },
    {
      "cell_type": "code",
      "source": [
        "# === 5. Teste pe seria diferențiată ===\n",
        "\n",
        "# ADF - none\n",
        "summary(ur.df(btc_diff, type = \"none\", lags = 14, selectlags = \"AIC\"))"
      ],
      "metadata": {
        "colab": {
          "base_uri": "https://localhost:8080/",
          "height": 801
        },
        "id": "HfSIOYB9SK0q",
        "outputId": "ef99f650-f777-491a-eb4f-150ee1e1942c"
      },
      "execution_count": null,
      "outputs": [
        {
          "output_type": "display_data",
          "data": {
            "text/plain": [
              "\n",
              "############################################### \n",
              "# Augmented Dickey-Fuller Test Unit Root Test # \n",
              "############################################### \n",
              "\n",
              "Test regression none \n",
              "\n",
              "\n",
              "Call:\n",
              "lm(formula = z.diff ~ z.lag.1 - 1 + z.diff.lag)\n",
              "\n",
              "Residuals:\n",
              "    Min      1Q  Median      3Q     Max \n",
              "-7418.8  -161.6     4.3   195.7  8130.5 \n",
              "\n",
              "Coefficients:\n",
              "              Estimate Std. Error t value Pr(>|t|)    \n",
              "z.lag.1      -0.917645   0.061570 -14.904  < 2e-16 ***\n",
              "z.diff.lag1  -0.112733   0.059277  -1.902  0.05728 .  \n",
              "z.diff.lag2  -0.091010   0.057172  -1.592  0.11151    \n",
              "z.diff.lag3  -0.089907   0.054924  -1.637  0.10174    \n",
              "z.diff.lag4  -0.059868   0.052374  -1.143  0.25308    \n",
              "z.diff.lag5  -0.036304   0.049234  -0.737  0.46095    \n",
              "z.diff.lag6  -0.064781   0.046102  -1.405  0.16006    \n",
              "z.diff.lag7  -0.069420   0.042799  -1.622  0.10490    \n",
              "z.diff.lag8  -0.103115   0.039419  -2.616  0.00894 ** \n",
              "z.diff.lag9  -0.030076   0.035541  -0.846  0.39748    \n",
              "z.diff.lag10  0.005251   0.030877   0.170  0.86497    \n",
              "z.diff.lag11  0.013547   0.025327   0.535  0.59276    \n",
              "z.diff.lag12 -0.037913   0.017619  -2.152  0.03149 *  \n",
              "---\n",
              "Signif. codes:  0 ‘***’ 0.001 ‘**’ 0.01 ‘*’ 0.05 ‘.’ 0.1 ‘ ’ 1\n",
              "\n",
              "Residual standard error: 1004 on 3260 degrees of freedom\n",
              "Multiple R-squared:  0.5239,\tAdjusted R-squared:  0.522 \n",
              "F-statistic: 275.9 on 13 and 3260 DF,  p-value: < 2.2e-16\n",
              "\n",
              "\n",
              "Value of test-statistic is: -14.9041 \n",
              "\n",
              "Critical values for test statistics: \n",
              "      1pct  5pct 10pct\n",
              "tau1 -2.58 -1.95 -1.62\n"
            ]
          },
          "metadata": {}
        }
      ]
    },
    {
      "cell_type": "markdown",
      "source": [
        "\n",
        "\n",
        "# **1. Formularea ipotezelor**\n",
        "- H₀: seria are rădăcină unitară → nu este staționară\n",
        "- H₁: seria este staționară\n",
        "\n",
        "# **2. Valori statistice obținute**\n",
        "\n",
        "Statistica ADF: −14.9041\n",
        "\n",
        "Valori critice:\n",
        "- 1%: −2.58\n",
        "- 5%: −1.95\n",
        "- 10%: −1.62\n",
        "\n",
        "# **3. Comparație și concluzie**\n",
        "Statistica testului este mult mai mică decât toate valorile critice. Astfel, respingem ipoteza nulă și concluzionăm că seria diferențiată este staționară.\n",
        "\n",
        "# **4. Interpretare economică**\n",
        "După diferențiere, prețul Bitcoin devine o serie staționară, cu variații stabile în jurul unei medii. Aceasta indică faptul că randamentele (nu nivelurile) sunt predictibile într-un cadru statistic."
      ],
      "metadata": {
        "id": "77trMuqfSMiE"
      }
    },
    {
      "cell_type": "code",
      "source": [
        "# ADF - drift\n",
        "summary(ur.df(btc_diff, type = \"drift\", lags = 14, selectlags = \"AIC\"))"
      ],
      "metadata": {
        "colab": {
          "base_uri": "https://localhost:8080/",
          "height": 838
        },
        "id": "c5IIM0YCSM0y",
        "outputId": "32afe803-c8c0-465a-9216-3d217c9d3560"
      },
      "execution_count": null,
      "outputs": [
        {
          "output_type": "display_data",
          "data": {
            "text/plain": [
              "\n",
              "############################################### \n",
              "# Augmented Dickey-Fuller Test Unit Root Test # \n",
              "############################################### \n",
              "\n",
              "Test regression drift \n",
              "\n",
              "\n",
              "Call:\n",
              "lm(formula = z.diff ~ z.lag.1 + 1 + z.diff.lag)\n",
              "\n",
              "Residuals:\n",
              "    Min      1Q  Median      3Q     Max \n",
              "-7443.8  -188.2   -22.6   171.4  8111.6 \n",
              "\n",
              "Coefficients:\n",
              "              Estimate Std. Error t value Pr(>|t|)    \n",
              "(Intercept)  26.701675  17.638236   1.514   0.1302    \n",
              "z.lag.1      -0.927218   0.061882 -14.984   <2e-16 ***\n",
              "z.diff.lag1  -0.103880   0.059553  -1.744   0.0812 .  \n",
              "z.diff.lag2  -0.082850   0.057414  -1.443   0.1491    \n",
              "z.diff.lag3  -0.082438   0.055134  -1.495   0.1350    \n",
              "z.diff.lag4  -0.053131   0.052552  -1.011   0.3121    \n",
              "z.diff.lag5  -0.030324   0.049383  -0.614   0.5392    \n",
              "z.diff.lag6  -0.059531   0.046223  -1.288   0.1979    \n",
              "z.diff.lag7  -0.064946   0.042893  -1.514   0.1301    \n",
              "z.diff.lag8  -0.099393   0.039488  -2.517   0.0119 *  \n",
              "z.diff.lag9  -0.027113   0.035588  -0.762   0.4462    \n",
              "z.diff.lag10  0.007484   0.030906   0.242   0.8087    \n",
              "z.diff.lag11  0.015054   0.025342   0.594   0.5525    \n",
              "z.diff.lag12 -0.037154   0.017623  -2.108   0.0351 *  \n",
              "---\n",
              "Signif. codes:  0 ‘***’ 0.001 ‘**’ 0.01 ‘*’ 0.05 ‘.’ 0.1 ‘ ’ 1\n",
              "\n",
              "Residual standard error: 1004 on 3259 degrees of freedom\n",
              "Multiple R-squared:  0.5242,\tAdjusted R-squared:  0.5223 \n",
              "F-statistic: 276.2 on 13 and 3259 DF,  p-value: < 2.2e-16\n",
              "\n",
              "\n",
              "Value of test-statistic is: -14.9837 112.2554 \n",
              "\n",
              "Critical values for test statistics: \n",
              "      1pct  5pct 10pct\n",
              "tau2 -3.43 -2.86 -2.57\n",
              "phi1  6.43  4.59  3.78\n"
            ]
          },
          "metadata": {}
        }
      ]
    },
    {
      "cell_type": "markdown",
      "source": [
        "\n",
        "# **1. Formularea ipotezelor**\n",
        "- H₀: seria are rădăcină unitară → nu este staționară\n",
        "- H₁: seria este staționară\n",
        "\n",
        "# **2. Valori statistice obținute**\n",
        "\n",
        "Statistica ADF (tau2): −14.9837  \n",
        "Valori critice ADF:\n",
        "- 1%: −3.43\n",
        "- 5%: −2.86\n",
        "- 10%: −2.57\n",
        "\n",
        "Statistica phi1 (constanta): 112.2554  \n",
        "Valori critice phi1:\n",
        "- 1%: 6.43\n",
        "- 5%: 4.59\n",
        "- 10%: 3.78\n",
        "\n",
        "# **3. Comparație și concluzie**\n",
        "Statistica ADF este mult mai mică decât valorile critice, deci respingem H₀. Constanta este semnificativă statistic, conform valorii phi1 foarte mari, confirmând prezența unui nivel stabil.\n",
        "\n",
        "# **4. Interpretare economică**\n",
        "După diferențiere, seria prețului Bitcoin devine staționară și prezintă o medie constantă. Acest comportament este tipic pentru randamente, nu pentru nivelurile de preț."
      ],
      "metadata": {
        "id": "QfE2lJtNSOoE"
      }
    },
    {
      "cell_type": "code",
      "source": [
        "# ADF - trend\n",
        "summary(ur.df(btc_diff, type = \"trend\", lags = 14, selectlags = \"AIC\"))"
      ],
      "metadata": {
        "colab": {
          "base_uri": "https://localhost:8080/",
          "height": 874
        },
        "id": "Eqs9AVJhSO4b",
        "outputId": "f303e48e-53b1-42fc-c0d7-914ba4b57a2c"
      },
      "execution_count": null,
      "outputs": [
        {
          "output_type": "display_data",
          "data": {
            "text/plain": [
              "\n",
              "############################################### \n",
              "# Augmented Dickey-Fuller Test Unit Root Test # \n",
              "############################################### \n",
              "\n",
              "Test regression trend \n",
              "\n",
              "\n",
              "Call:\n",
              "lm(formula = z.diff ~ z.lag.1 + 1 + tt + z.diff.lag)\n",
              "\n",
              "Residuals:\n",
              "    Min      1Q  Median      3Q     Max \n",
              "-7450.5  -194.4     8.9   173.8  8076.5 \n",
              "\n",
              "Coefficients:\n",
              "               Estimate Std. Error t value Pr(>|t|)    \n",
              "(Intercept)  -16.364916  35.339027  -0.463   0.6433    \n",
              "z.lag.1       -0.935650   0.062162 -15.052   <2e-16 ***\n",
              "tt             0.026234   0.018655   1.406   0.1597    \n",
              "z.diff.lag1   -0.096063   0.059803  -1.606   0.1083    \n",
              "z.diff.lag2   -0.075618   0.057636  -1.312   0.1896    \n",
              "z.diff.lag3   -0.075795   0.055328  -1.370   0.1708    \n",
              "z.diff.lag4   -0.047126   0.052718  -0.894   0.3714    \n",
              "z.diff.lag5   -0.024977   0.049522  -0.504   0.6140    \n",
              "z.diff.lag6   -0.054828   0.046337  -1.183   0.2368    \n",
              "z.diff.lag7   -0.060948   0.042981  -1.418   0.1563    \n",
              "z.diff.lag8   -0.096077   0.039552  -2.429   0.0152 *  \n",
              "z.diff.lag9   -0.024459   0.035632  -0.686   0.4925    \n",
              "z.diff.lag10   0.009496   0.030935   0.307   0.7589    \n",
              "z.diff.lag11   0.016413   0.025356   0.647   0.5175    \n",
              "z.diff.lag12  -0.036471   0.017627  -2.069   0.0386 *  \n",
              "---\n",
              "Signif. codes:  0 ‘***’ 0.001 ‘**’ 0.01 ‘*’ 0.05 ‘.’ 0.1 ‘ ’ 1\n",
              "\n",
              "Residual standard error: 1004 on 3258 degrees of freedom\n",
              "Multiple R-squared:  0.5245,\tAdjusted R-squared:  0.5224 \n",
              "F-statistic: 256.7 on 14 and 3258 DF,  p-value: < 2.2e-16\n",
              "\n",
              "\n",
              "Value of test-statistic is: -15.0517 75.5186 113.2778 \n",
              "\n",
              "Critical values for test statistics: \n",
              "      1pct  5pct 10pct\n",
              "tau3 -3.96 -3.41 -3.12\n",
              "phi2  6.09  4.68  4.03\n",
              "phi3  8.27  6.25  5.34\n"
            ]
          },
          "metadata": {}
        }
      ]
    },
    {
      "cell_type": "markdown",
      "source": [
        "\n",
        "# **1. Formularea ipotezelor**\n",
        "- H₀: seria are rădăcină unitară → nu este staționară\n",
        "- H₁: seria este staționară\n",
        "\n",
        "# **2. Valori statistice obținute**\n",
        "\n",
        "Statistica ADF (tau3): −15.0517  \n",
        "Valori critice:\n",
        "- 1%: −3.96  \n",
        "- 5%: −3.41  \n",
        "- 10%: −3.12\n",
        "\n",
        "Statistici suplimentare:\n",
        "- phi2 (pentru constantă): 75.5186  \n",
        "- phi3 (pentru trend): 113.2778  \n",
        "Valori critice:\n",
        "- phi2: 6.09 (1%), 4.68 (5%), 4.03 (10%)  \n",
        "- phi3: 8.27 (1%), 6.25 (5%), 5.34 (10%)\n",
        "\n",
        "# **3. Comparație și concluzie**\n",
        "Toate valorile testului sunt mai extreme decât valorile critice. Prin urmare, respingem ipoteza nulă și concluzionăm că seria diferențiată este staționară.\n",
        "\n",
        "# **4. Interpretare economică**\n",
        "Seria diferențiată a prețului Bitcoin (2016–2025) este staționară în jurul unui trend liniar. Aceasta indică o variație relativ stabilă a randamentelor în timp, tipică pentru active financiare."
      ],
      "metadata": {
        "id": "iNJsaiRXSQWy"
      }
    },
    {
      "cell_type": "code",
      "source": [
        "# PP\n",
        "summary(ur.pp(btc_diff, type = \"Z-tau\", model = \"constant\"))\n",
        "summary(ur.pp(btc_diff, type = \"Z-tau\", model = \"trend\"))"
      ],
      "metadata": {
        "colab": {
          "base_uri": "https://localhost:8080/",
          "height": 1000
        },
        "id": "KsjV1E31SQGE",
        "outputId": "2d4821c2-9e2e-4215-acff-bae603f990fa"
      },
      "execution_count": null,
      "outputs": [
        {
          "output_type": "display_data",
          "data": {
            "text/plain": [
              "\n",
              "################################## \n",
              "# Phillips-Perron Unit Root Test # \n",
              "################################## \n",
              "\n",
              "Test regression with intercept \n",
              "\n",
              "\n",
              "Call:\n",
              "lm(formula = y ~ y.l1)\n",
              "\n",
              "Residuals:\n",
              "    Min      1Q  Median      3Q     Max \n",
              "-7554.7  -188.3   -26.2   167.8  8324.3 \n",
              "\n",
              "Coefficients:\n",
              "            Estimate Std. Error t value Pr(>|t|)  \n",
              "(Intercept) 29.56221   17.57641   1.682   0.0927 .\n",
              "y.l1        -0.03425    0.01744  -1.964   0.0497 *\n",
              "---\n",
              "Signif. codes:  0 ‘***’ 0.001 ‘**’ 0.01 ‘*’ 0.05 ‘.’ 0.1 ‘ ’ 1\n",
              "\n",
              "Residual standard error: 1007 on 3285 degrees of freedom\n",
              "Multiple R-squared:  0.001172,\tAdjusted R-squared:  0.0008684 \n",
              "F-statistic: 3.856 on 1 and 3285 DF,  p-value: 0.04965\n",
              "\n",
              "\n",
              "Value of test-statistic, type: Z-tau  is: -59.2705 \n",
              "\n",
              "         aux. Z statistics\n",
              "Z-tau-mu             1.681\n",
              "\n",
              "Critical values for Z statistics: \n",
              "                     1pct      5pct     10pct\n",
              "critical values -3.435328 -2.862934 -2.567538\n"
            ]
          },
          "metadata": {}
        },
        {
          "output_type": "display_data",
          "data": {
            "text/plain": [
              "\n",
              "################################## \n",
              "# Phillips-Perron Unit Root Test # \n",
              "################################## \n",
              "\n",
              "Test regression with intercept and trend \n",
              "\n",
              "\n",
              "Call:\n",
              "lm(formula = y ~ y.l1 + trend)\n",
              "\n",
              "Residuals:\n",
              "    Min      1Q  Median      3Q     Max \n",
              "-7563.1  -197.9     9.3   170.5  8281.0 \n",
              "\n",
              "Coefficients:\n",
              "            Estimate Std. Error t value Pr(>|t|)  \n",
              "(Intercept) 29.56755   17.57262   1.683   0.0925 .\n",
              "y.l1        -0.03494    0.01744  -2.003   0.0452 *\n",
              "trend        0.02878    0.01852   1.554   0.1202  \n",
              "---\n",
              "Signif. codes:  0 ‘***’ 0.001 ‘**’ 0.01 ‘*’ 0.05 ‘.’ 0.1 ‘ ’ 1\n",
              "\n",
              "Residual standard error: 1007 on 3284 degrees of freedom\n",
              "Multiple R-squared:  0.001907,\tAdjusted R-squared:  0.001299 \n",
              "F-statistic: 3.137 on 2 and 3284 DF,  p-value: 0.04355\n",
              "\n",
              "\n",
              "Value of test-statistic, type: Z-tau  is: -59.3031 \n",
              "\n",
              "           aux. Z statistics\n",
              "Z-tau-mu              1.5869\n",
              "Z-tau-beta            1.5535\n",
              "\n",
              "Critical values for Z statistics: \n",
              "                     1pct     5pct     10pct\n",
              "critical values -3.966346 -3.41383 -3.128636\n"
            ]
          },
          "metadata": {}
        }
      ]
    },
    {
      "cell_type": "markdown",
      "source": [
        "\n",
        "# **1. Formularea ipotezelor**\n",
        "- H₀: seria are rădăcină unitară → nu este staționară\n",
        "- H₁: seria este staționară\n",
        "\n",
        "# **2. Valori statistice obținute**\n",
        "\n",
        "*Pentru modelul cu constantă:*\n",
        "- Statistica Z-tau: −59.2705  \n",
        "- Valori critice:  \n",
        "  - 1%: −3.4353  \n",
        "  - 5%: −2.8629  \n",
        "  - 10%: −2.5676\n",
        "\n",
        "*Pentru modelul cu constantă și trend:*\n",
        "- Statistica Z-tau: −59.3031  \n",
        "- Valori critice:  \n",
        "  - 1%: −3.9663  \n",
        "  - 5%: −3.4138  \n",
        "  - 10%: −3.1286\n",
        "\n",
        "# **3. Comparație și concluzie**\n",
        "În ambele cazuri, valorile testului sunt mult mai mici decât valorile critice. Astfel, respingem ipoteza nulă H₀ → seria diferențiată este clar staționară, indiferent de specificație.\n",
        "\n",
        "# **4. Interpretare economică**\n",
        "După diferențiere, prețul Bitcoin devine o serie stabilă și predictibilă statistic. Acest comportament este tipic pentru randamente, care nu prezintă trend sau medie instabilă în timp."
      ],
      "metadata": {
        "id": "iMwKVvuCSShf"
      }
    },
    {
      "cell_type": "code",
      "source": [
        "# KPSS\n",
        "summary(ur.kpss(btc_diff, type = \"mu\"))\n",
        "summary(ur.kpss(btc_diff, type = \"tau\"))"
      ],
      "metadata": {
        "colab": {
          "base_uri": "https://localhost:8080/",
          "height": 455
        },
        "id": "HAkASmLGSSx0",
        "outputId": "bce2cbf8-1ffa-4cce-a74f-ce15b545a6db"
      },
      "execution_count": null,
      "outputs": [
        {
          "output_type": "display_data",
          "data": {
            "text/plain": [
              "\n",
              "####################### \n",
              "# KPSS Unit Root Test # \n",
              "####################### \n",
              "\n",
              "Test is of type: mu with 9 lags. \n",
              "\n",
              "Value of test-statistic is: 0.2644 \n",
              "\n",
              "Critical value for a significance level of: \n",
              "                10pct  5pct 2.5pct  1pct\n",
              "critical values 0.347 0.463  0.574 0.739\n"
            ]
          },
          "metadata": {}
        },
        {
          "output_type": "display_data",
          "data": {
            "text/plain": [
              "\n",
              "####################### \n",
              "# KPSS Unit Root Test # \n",
              "####################### \n",
              "\n",
              "Test is of type: tau with 9 lags. \n",
              "\n",
              "Value of test-statistic is: 0.0851 \n",
              "\n",
              "Critical value for a significance level of: \n",
              "                10pct  5pct 2.5pct  1pct\n",
              "critical values 0.119 0.146  0.176 0.216\n"
            ]
          },
          "metadata": {}
        }
      ]
    },
    {
      "cell_type": "markdown",
      "source": [
        "\n",
        "# **1. Formularea ipotezelor**\n",
        "- H₀: seria este staționară\n",
        "- H₁: seria nu este staționară\n",
        "\n",
        "# **2. Valori statistice obținute**\n",
        "\n",
        " Pentru specificația mu (constanta):  \n",
        "- Statistica KPSS: 0.2644  \n",
        "- Valori critice:\n",
        "  - 10%: 0.347\n",
        "  - 5%: 0.463\n",
        "  - 2.5%: 0.574\n",
        "  - 1%: 0.739\n",
        "\n",
        "Pentru specificația tau (trend):  \n",
        "- Statistica KPSS: 0.0851  \n",
        "- Valori critice:\n",
        "  - 10%: 0.119\n",
        "  - 5%: 0.146\n",
        "  - 2.5%: 0.176\n",
        "  - 1%: 0.216\n",
        "\n",
        "# **3. Comparație și concluzie**\n",
        "\n",
        "În ambele cazuri, valorile testului sunt mai mici decât toate valorile critice. Prin urmare, nu respingem ipoteza nulă și concluzionăm că seria diferențiată este staționară.\n",
        "\n",
        "# **4. Interpretare economică**\n",
        "\n",
        "Rezultatele arată că seria diferențiată a prețului Bitcoin este staționară atât în jurul unei medii constante, cât și în jurul unui trend determinist. Randamentele zilnice nu prezintă instabilitate sistematică pe termen lung."
      ],
      "metadata": {
        "id": "7QeM8jttSWA9"
      }
    },
    {
      "cell_type": "code",
      "source": [
        "# === 6. Corelogramă pentru seria diferențiată ===\n",
        "ggtsdisplay(btc_diff, lag.max = 30, main = \"Bitcoin - Diferențiat (Diff)\")"
      ],
      "metadata": {
        "colab": {
          "base_uri": "https://localhost:8080/",
          "height": 437
        },
        "id": "njQr89MBSWOf",
        "outputId": "0a9f9e05-f20c-48d9-d438-931f9323547a"
      },
      "execution_count": null,
      "outputs": [
        {
          "output_type": "display_data",
          "data": {
            "text/plain": [
              "plot without title"
            ],
            "image/png": "[encoded data removed]"
          },
          "metadata": {
            "image/png": {
              "width": 420,
              "height": 420
            }
          }
        }
      ]
    },
    {
      "cell_type": "markdown",
      "source": [
        "**ACF**: Se observă autocorelații semnificative la lagurile 8, 9, 12, 19, 24–29.\n",
        "\n",
        "**PACF**: Valoril semnificative la lagurile 7, 8, 13, 14, 19, 24–26, 28, 29."
      ],
      "metadata": {
        "id": "EveiWNnsSXRy"
      }
    },
    {
      "cell_type": "code",
      "source": [
        "# === 7. Identificarea modelului ARIMA ===\n",
        "model_arima <- auto.arima(btc_ts)\n",
        "summary(model_arima)"
      ],
      "metadata": {
        "colab": {
          "base_uri": "https://localhost:8080/",
          "height": 309
        },
        "id": "ECsHrzFqSXGD",
        "outputId": "4397ba6c-16ec-4323-d193-b61eabbb194f"
      },
      "execution_count": null,
      "outputs": [
        {
          "output_type": "display_data",
          "data": {
            "text/plain": [
              "Series: btc_ts \n",
              "ARIMA(0,1,1) with drift \n",
              "\n",
              "Coefficients:\n",
              "          ma1    drift\n",
              "      -0.0329  28.5834\n",
              "s.e.   0.0171  16.9809\n",
              "\n",
              "sigma^2 = 1014390:  log likelihood = -27400.66\n",
              "AIC=54807.31   AICc=54807.32   BIC=54825.61\n",
              "\n",
              "Training set error measures:\n",
              "                       ME    RMSE      MAE        MPE     MAPE       MASE\n",
              "Training set -0.009084953 1006.71 526.0021 -0.8451953 2.862234 0.03394872\n",
              "                      ACF1\n",
              "Training set -0.0006730069"
            ]
          },
          "metadata": {}
        }
      ]
    },
    {
      "cell_type": "markdown",
      "source": [
        "Modelul estimat este ARIMA(0,1,1) cu drift, adică o serie diferențiată o dată (D = 1), fără componentă AR (P = 0), dar cu o componentă MA(1) (Q = 1) și un drift semnificativ.\n",
        "\n",
        "# **Interpretare:**\n",
        "\n",
        "MA(1) = –0.0329: indică o dependență slabă de eroarea anterioară.\n",
        "\n",
        "Drift = 28.5834: semnalează o tendință ascendentă medie a seriei (creștere lentă în timp).\n",
        "\n",
        "AIC = 54807.31 / BIC = 54825.61: valori relativ mici → modelul este eficient și bine calibrat.\n",
        "\n",
        "Reziduurile au autocorelare foarte mică (ACF1 = –0.00067), deci nu există pattern-uri nereziduale → validare bună a modelului."
      ],
      "metadata": {
        "id": "I1Eo5TXlKcqu"
      }
    }
  ]
}